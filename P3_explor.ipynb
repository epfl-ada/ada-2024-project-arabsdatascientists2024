{
 "cells": [
  {
   "cell_type": "code",
   "execution_count": 2,
   "metadata": {},
   "outputs": [],
   "source": [
    "import pandas as pd"
   ]
  },
  {
   "cell_type": "code",
   "execution_count": 3,
   "metadata": {},
   "outputs": [],
   "source": [
    "character_metadata = pd.read_csv('character_metadata_clean_without_success_metrics.csv')\n"
   ]
  },
  {
   "cell_type": "code",
   "execution_count": 4,
   "metadata": {},
   "outputs": [
    {
     "data": {
      "text/plain": [
       "Index(['ActorName', 'WikipediaMovieID', 'CharacterName', 'ActorDOB',\n",
       "       'ActorGender', 'ActorHeight', 'ActorEthnicity',\n",
       "       'FreebaseCharacterActorMapID', 'FreebaseCharacterID', 'FreebaseActorID',\n",
       "       'Arched_Eyebrows', 'Attractive', 'Bags_Under_Eyes', 'Bald', 'Bangs',\n",
       "       'Big_Lips', 'Big_Nose', 'Black_Hair', 'Blond_Hair', 'Brown_Hair',\n",
       "       'Bushy_Eyebrows', 'Chubby', 'Double_Chin', 'Goatee', 'Gray_Hair',\n",
       "       'High_Cheekbones', 'Male', 'Mustache', 'Narrow_Eyes', 'No_Beard',\n",
       "       'Oval_Face', 'Pale_Skin', 'Pointy_Nose', 'Receding_Hairline',\n",
       "       'Rosy_Cheeks', 'Sideburns', 'Straight_Hair', 'Wavy_Hair',\n",
       "       'primaryProfession', 'knownForTitles', 'socioeconomic_background',\n",
       "       'education_level', 'early_life_opportunities'],\n",
       "      dtype='object')"
      ]
     },
     "execution_count": 4,
     "metadata": {},
     "output_type": "execute_result"
    }
   ],
   "source": [
    "character_metadata.columns"
   ]
  },
  {
   "cell_type": "code",
   "execution_count": 5,
   "metadata": {},
   "outputs": [],
   "source": [
    "character_metadata = character_metadata.drop(columns= ['FreebaseCharacterActorMapID', 'FreebaseCharacterID', 'FreebaseActorID',])"
   ]
  },
  {
   "cell_type": "code",
   "execution_count": 6,
   "metadata": {},
   "outputs": [
    {
     "data": {
      "text/plain": [
       "Index(['ActorName', 'WikipediaMovieID', 'CharacterName', 'ActorDOB',\n",
       "       'ActorGender', 'ActorHeight', 'ActorEthnicity', 'Arched_Eyebrows',\n",
       "       'Attractive', 'Bags_Under_Eyes', 'Bald', 'Bangs', 'Big_Lips',\n",
       "       'Big_Nose', 'Black_Hair', 'Blond_Hair', 'Brown_Hair', 'Bushy_Eyebrows',\n",
       "       'Chubby', 'Double_Chin', 'Goatee', 'Gray_Hair', 'High_Cheekbones',\n",
       "       'Male', 'Mustache', 'Narrow_Eyes', 'No_Beard', 'Oval_Face', 'Pale_Skin',\n",
       "       'Pointy_Nose', 'Receding_Hairline', 'Rosy_Cheeks', 'Sideburns',\n",
       "       'Straight_Hair', 'Wavy_Hair', 'primaryProfession', 'knownForTitles',\n",
       "       'socioeconomic_background', 'education_level',\n",
       "       'early_life_opportunities'],\n",
       "      dtype='object')"
      ]
     },
     "execution_count": 6,
     "metadata": {},
     "output_type": "execute_result"
    }
   ],
   "source": [
    "character_metadata.columns"
   ]
  },
  {
   "cell_type": "code",
   "execution_count": 7,
   "metadata": {},
   "outputs": [
    {
     "data": {
      "text/plain": [
       "0.96571398738048"
      ]
     },
     "execution_count": 7,
     "metadata": {},
     "output_type": "execute_result"
    }
   ],
   "source": [
    "character_metadata['Black_Hair'].isna().sum()/len(character_metadata['Black_Hair'])"
   ]
  },
  {
   "cell_type": "code",
   "execution_count": 8,
   "metadata": {},
   "outputs": [],
   "source": [
    "movie_metadata = pd.read_csv('movie_metadata_uni.csv')\n"
   ]
  },
  {
   "cell_type": "code",
   "execution_count": 9,
   "metadata": {},
   "outputs": [
    {
     "data": {
      "text/plain": [
       "Index(['WikipediaMovieID', 'FreebaseMovieID', 'MovieName', 'ReleaseDate',\n",
       "       'BoxOfficeRevenue', 'Runtime', 'Languages', 'Countries', 'Genres',\n",
       "       'PlotSummary', 'avgRating_imdb', 'tconst'],\n",
       "      dtype='object')"
      ]
     },
     "execution_count": 9,
     "metadata": {},
     "output_type": "execute_result"
    }
   ],
   "source": [
    "movie_metadata.columns"
   ]
  },
  {
   "cell_type": "code",
   "execution_count": 20,
   "metadata": {},
   "outputs": [
    {
     "data": {
      "text/plain": [
       "True"
      ]
     },
     "execution_count": 20,
     "metadata": {},
     "output_type": "execute_result"
    }
   ],
   "source": [
    "movie_metadata['WikipediaMovieID'].is_unique"
   ]
  },
  {
   "cell_type": "code",
   "execution_count": 32,
   "metadata": {},
   "outputs": [
    {
     "name": "stderr",
     "output_type": "stream",
     "text": [
      "C:\\Users\\HP\\AppData\\Local\\Temp\\ipykernel_32648\\2846826338.py:20: RuntimeWarning: Mean of empty slice\n",
      "  return np.nanmean(ratings)\n",
      "C:\\Users\\HP\\AppData\\Local\\Temp\\ipykernel_32648\\2846826338.py:23: SettingWithCopyWarning: \n",
      "A value is trying to be set on a copy of a slice from a DataFrame.\n",
      "Try using .loc[row_indexer,col_indexer] = value instead\n",
      "\n",
      "See the caveats in the documentation: https://pandas.pydata.org/pandas-docs/stable/user_guide/indexing.html#returning-a-view-versus-a-copy\n",
      "  character_metadata['mean_rating_known_titles'] = character_metadata['knownForTitles'].apply(calculate_mean_rating)\n"
     ]
    }
   ],
   "source": [
    "import pandas as pd\n",
    "import numpy as np\n",
    "\n",
    "# Example: Assuming movie_metadata and character_metadata are already loaded\n",
    "\n",
    "# Step 1: Create a mapping from tconst to avgRating_imdb\n",
    "tconst_avg_rating = movie_metadata[['tconst', 'avgRating_imdb']].set_index('tconst')['avgRating_imdb'].to_dict()\n",
    "\n",
    "# Step 2: Define a function to calculate the mean rating for knownForTitles\n",
    "def calculate_mean_rating(known_for_titles):\n",
    "    if pd.isna(known_for_titles):  # Handle NaN values\n",
    "        return np.nan\n",
    "    # Split the knownForTitles string into a list of tconsts\n",
    "    tconsts = known_for_titles.split(',')\n",
    "    if len(tconsts) < 3:  # Drop rows if the number of tconsts is less than 3\n",
    "        return 'DROP'\n",
    "    # Look up each tconst in the mapping and collect the ratings\n",
    "    ratings = [tconst_avg_rating.get(tconst.strip(), np.nan) for tconst in tconsts]\n",
    "    # Return the mean of the ratings, ignoring NaN values\n",
    "    return np.nanmean(ratings)\n",
    "\n",
    "# Step 3: Apply the function to the 'knownForTitles' column\n",
    "character_metadata['mean_rating_known_titles'] = character_metadata['knownForTitles'].apply(calculate_mean_rating)\n",
    "\n",
    "# Step 4: Drop rows where the result is 'DROP'\n",
    "character_metadata = character_metadata[character_metadata['mean_rating_known_titles'] != 'DROP']\n"
   ]
  },
  {
   "cell_type": "code",
   "execution_count": null,
   "metadata": {},
   "outputs": [
    {
     "name": "stderr",
     "output_type": "stream",
     "text": [
      "C:\\Users\\HP\\AppData\\Local\\Temp\\ipykernel_32648\\3020642840.py:18: RuntimeWarning: Mean of empty slice\n",
      "  return np.nanmean(ratings)\n"
     ]
    }
   ],
   "source": [
    "import pandas as pd\n",
    "import numpy as np\n",
    "\n",
    "# Example: Assuming movie_metadata1 and character_metadata are already loaded\n",
    "\n",
    "# Step 1: Create a mapping from tconst to avgRating_imdb_x\n",
    "tconst_avg_rating = movie_metadata[['tconst', 'avgRating_imdb']].set_index('tconst')['avgRating_imdb'].to_dict()\n",
    "\n",
    "# Step 2: Define a function to calculate the mean rating for knownForTitles\n",
    "def calculate_mean_rating(known_for_titles):\n",
    "    if pd.isna(known_for_titles):  # Handle NaN values\n",
    "        return np.nan\n",
    "    # Split the knownForTitles string into a list of tconsts\n",
    "    tconsts = known_for_titles.split(',')        \n",
    "    # Look up each tconst in the mapping and collect the ratings\n",
    "    ratings = [tconst_avg_rating.get(tconst, np.nan) for tconst in tconsts]\n",
    "    # Return the mean of the ratings, ignoring NaN values\n",
    "    return np.nanmean(ratings)\n",
    "\n",
    "# Step 3: Apply the function to the 'knownForTitles' column\n",
    "character_metadata['mean_rating_known_titles'] = character_metadata['knownForTitles'].apply(calculate_mean_rating)\n",
    "\n",
    "# Step 4: Verify the result\n"
   ]
  },
  {
   "cell_type": "code",
   "execution_count": 33,
   "metadata": {},
   "outputs": [
    {
     "data": {
      "text/plain": [
       "0.44417552803453575"
      ]
     },
     "execution_count": 33,
     "metadata": {},
     "output_type": "execute_result"
    }
   ],
   "source": [
    "character_metadata['mean_rating_known_titles'].isna().sum()/len(character_metadata['mean_rating_known_titles'])"
   ]
  },
  {
   "cell_type": "code",
   "execution_count": 34,
   "metadata": {},
   "outputs": [
    {
     "data": {
      "text/plain": [
       "count    64763.000000\n",
       "mean         6.284296\n",
       "std          0.968536\n",
       "min          1.100000\n",
       "25%          5.800000\n",
       "50%          6.400000\n",
       "75%          6.900000\n",
       "max          9.400000\n",
       "Name: mean_rating_known_titles, dtype: float64"
      ]
     },
     "execution_count": 34,
     "metadata": {},
     "output_type": "execute_result"
    }
   ],
   "source": [
    "character_metadata['mean_rating_known_titles'].describe()"
   ]
  },
  {
   "cell_type": "code",
   "execution_count": 54,
   "metadata": {},
   "outputs": [],
   "source": [
    "character_metadata.to_csv('character_metadata_withscore', index=False)\n"
   ]
  },
  {
   "cell_type": "code",
   "execution_count": 35,
   "metadata": {},
   "outputs": [
    {
     "data": {
      "text/html": [
       "<div>\n",
       "<style scoped>\n",
       "    .dataframe tbody tr th:only-of-type {\n",
       "        vertical-align: middle;\n",
       "    }\n",
       "\n",
       "    .dataframe tbody tr th {\n",
       "        vertical-align: top;\n",
       "    }\n",
       "\n",
       "    .dataframe thead th {\n",
       "        text-align: right;\n",
       "    }\n",
       "</style>\n",
       "<table border=\"1\" class=\"dataframe\">\n",
       "  <thead>\n",
       "    <tr style=\"text-align: right;\">\n",
       "      <th></th>\n",
       "      <th>ActorName</th>\n",
       "      <th>WikipediaMovieID</th>\n",
       "      <th>CharacterName</th>\n",
       "      <th>ActorDOB</th>\n",
       "      <th>ActorGender</th>\n",
       "      <th>ActorHeight</th>\n",
       "      <th>ActorEthnicity</th>\n",
       "      <th>Arched_Eyebrows</th>\n",
       "      <th>Attractive</th>\n",
       "      <th>Bags_Under_Eyes</th>\n",
       "      <th>...</th>\n",
       "      <th>Rosy_Cheeks</th>\n",
       "      <th>Sideburns</th>\n",
       "      <th>Straight_Hair</th>\n",
       "      <th>Wavy_Hair</th>\n",
       "      <th>primaryProfession</th>\n",
       "      <th>knownForTitles</th>\n",
       "      <th>socioeconomic_background</th>\n",
       "      <th>education_level</th>\n",
       "      <th>early_life_opportunities</th>\n",
       "      <th>mean_rating_known_titles</th>\n",
       "    </tr>\n",
       "  </thead>\n",
       "  <tbody>\n",
       "    <tr>\n",
       "      <th>6964</th>\n",
       "      <td>Anil Sanouri</td>\n",
       "      <td>7567194</td>\n",
       "      <td>NaN</td>\n",
       "      <td>NaN</td>\n",
       "      <td>M</td>\n",
       "      <td>NaN</td>\n",
       "      <td>NaN</td>\n",
       "      <td>NaN</td>\n",
       "      <td>NaN</td>\n",
       "      <td>NaN</td>\n",
       "      <td>...</td>\n",
       "      <td>NaN</td>\n",
       "      <td>NaN</td>\n",
       "      <td>NaN</td>\n",
       "      <td>NaN</td>\n",
       "      <td>ActingOcc</td>\n",
       "      <td>tt1518814,tt0316054,tt0454483,tt4638172</td>\n",
       "      <td>Privileged</td>\n",
       "      <td>FormallyEducated</td>\n",
       "      <td>PrivilegedStart</td>\n",
       "      <td>9.4</td>\n",
       "    </tr>\n",
       "    <tr>\n",
       "      <th>14466</th>\n",
       "      <td>Bob Gunton</td>\n",
       "      <td>30625,67427,509676,524813,537416,548669,798377...</td>\n",
       "      <td>Alexander McAnally III,Burton Quinn,Cecil Dobb...</td>\n",
       "      <td>1945-11-15</td>\n",
       "      <td>M</td>\n",
       "      <td>1.85</td>\n",
       "      <td>NaN</td>\n",
       "      <td>NaN</td>\n",
       "      <td>NaN</td>\n",
       "      <td>NaN</td>\n",
       "      <td>...</td>\n",
       "      <td>NaN</td>\n",
       "      <td>NaN</td>\n",
       "      <td>NaN</td>\n",
       "      <td>NaN</td>\n",
       "      <td>ActingOcc</td>\n",
       "      <td>tt9271850,tt4513678,tt0111161,tt0285331</td>\n",
       "      <td>Underprivileged</td>\n",
       "      <td>FormallyEducated</td>\n",
       "      <td>PrivilegedStart</td>\n",
       "      <td>9.3</td>\n",
       "    </tr>\n",
       "    <tr>\n",
       "      <th>93001</th>\n",
       "      <td>Ned Bellamy</td>\n",
       "      <td>349941,798426,1152416,3059082,3917900,3927125,...</td>\n",
       "      <td>Bob,Derek Mantini,Jeff,Ooq-Yu-Fay Taqnufmini /...</td>\n",
       "      <td>1957-05-07</td>\n",
       "      <td>M</td>\n",
       "      <td>1.83</td>\n",
       "      <td>NaN</td>\n",
       "      <td>NaN</td>\n",
       "      <td>NaN</td>\n",
       "      <td>NaN</td>\n",
       "      <td>...</td>\n",
       "      <td>NaN</td>\n",
       "      <td>NaN</td>\n",
       "      <td>NaN</td>\n",
       "      <td>NaN</td>\n",
       "      <td>ActingOcc</td>\n",
       "      <td>tt1655389,tt1099212,tt0098904,tt0111161</td>\n",
       "      <td>Privileged</td>\n",
       "      <td>HighlyEducated</td>\n",
       "      <td>PrivilegedStart</td>\n",
       "      <td>9.3</td>\n",
       "    </tr>\n",
       "    <tr>\n",
       "      <th>104757</th>\n",
       "      <td>Renee Blaine</td>\n",
       "      <td>30625</td>\n",
       "      <td>Andy Dufresne's Wife</td>\n",
       "      <td>NaN</td>\n",
       "      <td>NaN</td>\n",
       "      <td>NaN</td>\n",
       "      <td>NaN</td>\n",
       "      <td>NaN</td>\n",
       "      <td>NaN</td>\n",
       "      <td>NaN</td>\n",
       "      <td>...</td>\n",
       "      <td>NaN</td>\n",
       "      <td>NaN</td>\n",
       "      <td>NaN</td>\n",
       "      <td>NaN</td>\n",
       "      <td>ActingOcc</td>\n",
       "      <td>tt0111161, tt4612336,tt7001202,tt4612350</td>\n",
       "      <td>Underprivileged</td>\n",
       "      <td>HighlyEducated</td>\n",
       "      <td>PrivilegedStart</td>\n",
       "      <td>9.3</td>\n",
       "    </tr>\n",
       "    <tr>\n",
       "      <th>26112</th>\n",
       "      <td>Dana Snyder</td>\n",
       "      <td>6697503,20747730,28010827</td>\n",
       "      <td>Baseball Fan</td>\n",
       "      <td>1973-11-14</td>\n",
       "      <td>M</td>\n",
       "      <td>NaN</td>\n",
       "      <td>NaN</td>\n",
       "      <td>NaN</td>\n",
       "      <td>NaN</td>\n",
       "      <td>NaN</td>\n",
       "      <td>...</td>\n",
       "      <td>NaN</td>\n",
       "      <td>NaN</td>\n",
       "      <td>NaN</td>\n",
       "      <td>NaN</td>\n",
       "      <td>ActingOcc</td>\n",
       "      <td>tt0111161, tt0455326,tt0297494,tt0457146,tt106...</td>\n",
       "      <td>Underprivileged</td>\n",
       "      <td>FormallyEducated</td>\n",
       "      <td>Ordinary</td>\n",
       "      <td>9.3</td>\n",
       "    </tr>\n",
       "    <tr>\n",
       "      <th>57086</th>\n",
       "      <td>Jeff Swarthout</td>\n",
       "      <td>19737523,19925493</td>\n",
       "      <td>NaN</td>\n",
       "      <td>NaN</td>\n",
       "      <td>NaN</td>\n",
       "      <td>NaN</td>\n",
       "      <td>NaN</td>\n",
       "      <td>NaN</td>\n",
       "      <td>NaN</td>\n",
       "      <td>NaN</td>\n",
       "      <td>...</td>\n",
       "      <td>NaN</td>\n",
       "      <td>NaN</td>\n",
       "      <td>NaN</td>\n",
       "      <td>NaN</td>\n",
       "      <td>ActingOcc</td>\n",
       "      <td>tt1251495,tt1326238,tt0353794,tt1408299</td>\n",
       "      <td>Underprivileged</td>\n",
       "      <td>FormallyEducated</td>\n",
       "      <td>PrivilegedStart</td>\n",
       "      <td>9.3</td>\n",
       "    </tr>\n",
       "    <tr>\n",
       "      <th>9809</th>\n",
       "      <td>Arun Govil</td>\n",
       "      <td>11218076,12611020,20323018,20904653,28300499,3...</td>\n",
       "      <td>Raju,Ram,Shankar</td>\n",
       "      <td>1958-01-12</td>\n",
       "      <td>M</td>\n",
       "      <td>NaN</td>\n",
       "      <td>NaN</td>\n",
       "      <td>NaN</td>\n",
       "      <td>NaN</td>\n",
       "      <td>NaN</td>\n",
       "      <td>...</td>\n",
       "      <td>NaN</td>\n",
       "      <td>NaN</td>\n",
       "      <td>NaN</td>\n",
       "      <td>NaN</td>\n",
       "      <td>ActingOcc</td>\n",
       "      <td>tt0259534,tt0268093,tt15732324,tt2706372</td>\n",
       "      <td>Privileged</td>\n",
       "      <td>HighlyEducated</td>\n",
       "      <td>PrivilegedStart</td>\n",
       "      <td>9.2</td>\n",
       "    </tr>\n",
       "    <tr>\n",
       "      <th>116188</th>\n",
       "      <td>Simonetta Stefanelli</td>\n",
       "      <td>2466773,10811566,11996246</td>\n",
       "      <td>Apollonia Vitelli-Corleone</td>\n",
       "      <td>1954-11-30</td>\n",
       "      <td>F</td>\n",
       "      <td>NaN</td>\n",
       "      <td>NaN</td>\n",
       "      <td>NaN</td>\n",
       "      <td>NaN</td>\n",
       "      <td>NaN</td>\n",
       "      <td>...</td>\n",
       "      <td>NaN</td>\n",
       "      <td>NaN</td>\n",
       "      <td>NaN</td>\n",
       "      <td>NaN</td>\n",
       "      <td>ActingOcc</td>\n",
       "      <td>tt0068646,tt0172044,tt0071783,tt0072547</td>\n",
       "      <td>Privileged</td>\n",
       "      <td>FormallyEducated</td>\n",
       "      <td>PrivilegedStart</td>\n",
       "      <td>9.2</td>\n",
       "    </tr>\n",
       "    <tr>\n",
       "      <th>77005</th>\n",
       "      <td>Lou Martini Jr.</td>\n",
       "      <td>5363496,12997070</td>\n",
       "      <td>Al,Morris</td>\n",
       "      <td>NaN</td>\n",
       "      <td>M</td>\n",
       "      <td>1.80</td>\n",
       "      <td>NaN</td>\n",
       "      <td>NaN</td>\n",
       "      <td>NaN</td>\n",
       "      <td>NaN</td>\n",
       "      <td>...</td>\n",
       "      <td>NaN</td>\n",
       "      <td>NaN</td>\n",
       "      <td>NaN</td>\n",
       "      <td>NaN</td>\n",
       "      <td>ActingOcc</td>\n",
       "      <td>tt0141842,tt0203259,tt0068646,tt0233052</td>\n",
       "      <td>MiddleIncome</td>\n",
       "      <td>FormallyEducated</td>\n",
       "      <td>PrivilegedStart</td>\n",
       "      <td>9.2</td>\n",
       "    </tr>\n",
       "    <tr>\n",
       "      <th>22049</th>\n",
       "      <td>Christian Stoehr</td>\n",
       "      <td>22375764</td>\n",
       "      <td>NaN</td>\n",
       "      <td>NaN</td>\n",
       "      <td>NaN</td>\n",
       "      <td>NaN</td>\n",
       "      <td>NaN</td>\n",
       "      <td>NaN</td>\n",
       "      <td>NaN</td>\n",
       "      <td>NaN</td>\n",
       "      <td>...</td>\n",
       "      <td>NaN</td>\n",
       "      <td>NaN</td>\n",
       "      <td>NaN</td>\n",
       "      <td>NaN</td>\n",
       "      <td>otherOcc</td>\n",
       "      <td>tt1410205,tt2058710,tt0171827,tt0992972</td>\n",
       "      <td>Underprivileged</td>\n",
       "      <td>InformallyEducated</td>\n",
       "      <td>PrivilegedStart</td>\n",
       "      <td>9.2</td>\n",
       "    </tr>\n",
       "  </tbody>\n",
       "</table>\n",
       "<p>10 rows × 41 columns</p>\n",
       "</div>"
      ],
      "text/plain": [
       "                   ActorName  \\\n",
       "6964            Anil Sanouri   \n",
       "14466             Bob Gunton   \n",
       "93001            Ned Bellamy   \n",
       "104757          Renee Blaine   \n",
       "26112            Dana Snyder   \n",
       "57086         Jeff Swarthout   \n",
       "9809              Arun Govil   \n",
       "116188  Simonetta Stefanelli   \n",
       "77005        Lou Martini Jr.   \n",
       "22049       Christian Stoehr   \n",
       "\n",
       "                                         WikipediaMovieID  \\\n",
       "6964                                              7567194   \n",
       "14466   30625,67427,509676,524813,537416,548669,798377...   \n",
       "93001   349941,798426,1152416,3059082,3917900,3927125,...   \n",
       "104757                                              30625   \n",
       "26112                           6697503,20747730,28010827   \n",
       "57086                                   19737523,19925493   \n",
       "9809    11218076,12611020,20323018,20904653,28300499,3...   \n",
       "116188                          2466773,10811566,11996246   \n",
       "77005                                    5363496,12997070   \n",
       "22049                                            22375764   \n",
       "\n",
       "                                            CharacterName    ActorDOB  \\\n",
       "6964                                                  NaN         NaN   \n",
       "14466   Alexander McAnally III,Burton Quinn,Cecil Dobb...  1945-11-15   \n",
       "93001   Bob,Derek Mantini,Jeff,Ooq-Yu-Fay Taqnufmini /...  1957-05-07   \n",
       "104757                               Andy Dufresne's Wife         NaN   \n",
       "26112                                        Baseball Fan  1973-11-14   \n",
       "57086                                                 NaN         NaN   \n",
       "9809                                     Raju,Ram,Shankar  1958-01-12   \n",
       "116188                         Apollonia Vitelli-Corleone  1954-11-30   \n",
       "77005                                           Al,Morris         NaN   \n",
       "22049                                                 NaN         NaN   \n",
       "\n",
       "       ActorGender  ActorHeight ActorEthnicity  Arched_Eyebrows  Attractive  \\\n",
       "6964             M          NaN            NaN              NaN         NaN   \n",
       "14466            M         1.85            NaN              NaN         NaN   \n",
       "93001            M         1.83            NaN              NaN         NaN   \n",
       "104757         NaN          NaN            NaN              NaN         NaN   \n",
       "26112            M          NaN            NaN              NaN         NaN   \n",
       "57086          NaN          NaN            NaN              NaN         NaN   \n",
       "9809             M          NaN            NaN              NaN         NaN   \n",
       "116188           F          NaN            NaN              NaN         NaN   \n",
       "77005            M         1.80            NaN              NaN         NaN   \n",
       "22049          NaN          NaN            NaN              NaN         NaN   \n",
       "\n",
       "        Bags_Under_Eyes  ...  Rosy_Cheeks  Sideburns  Straight_Hair  \\\n",
       "6964                NaN  ...          NaN        NaN            NaN   \n",
       "14466               NaN  ...          NaN        NaN            NaN   \n",
       "93001               NaN  ...          NaN        NaN            NaN   \n",
       "104757              NaN  ...          NaN        NaN            NaN   \n",
       "26112               NaN  ...          NaN        NaN            NaN   \n",
       "57086               NaN  ...          NaN        NaN            NaN   \n",
       "9809                NaN  ...          NaN        NaN            NaN   \n",
       "116188              NaN  ...          NaN        NaN            NaN   \n",
       "77005               NaN  ...          NaN        NaN            NaN   \n",
       "22049               NaN  ...          NaN        NaN            NaN   \n",
       "\n",
       "        Wavy_Hair  primaryProfession  \\\n",
       "6964          NaN          ActingOcc   \n",
       "14466         NaN          ActingOcc   \n",
       "93001         NaN          ActingOcc   \n",
       "104757        NaN          ActingOcc   \n",
       "26112         NaN          ActingOcc   \n",
       "57086         NaN          ActingOcc   \n",
       "9809          NaN          ActingOcc   \n",
       "116188        NaN          ActingOcc   \n",
       "77005         NaN          ActingOcc   \n",
       "22049         NaN           otherOcc   \n",
       "\n",
       "                                           knownForTitles  \\\n",
       "6964              tt1518814,tt0316054,tt0454483,tt4638172   \n",
       "14466             tt9271850,tt4513678,tt0111161,tt0285331   \n",
       "93001             tt1655389,tt1099212,tt0098904,tt0111161   \n",
       "104757           tt0111161, tt4612336,tt7001202,tt4612350   \n",
       "26112   tt0111161, tt0455326,tt0297494,tt0457146,tt106...   \n",
       "57086             tt1251495,tt1326238,tt0353794,tt1408299   \n",
       "9809             tt0259534,tt0268093,tt15732324,tt2706372   \n",
       "116188            tt0068646,tt0172044,tt0071783,tt0072547   \n",
       "77005             tt0141842,tt0203259,tt0068646,tt0233052   \n",
       "22049             tt1410205,tt2058710,tt0171827,tt0992972   \n",
       "\n",
       "        socioeconomic_background     education_level  \\\n",
       "6964                  Privileged    FormallyEducated   \n",
       "14466            Underprivileged    FormallyEducated   \n",
       "93001                 Privileged      HighlyEducated   \n",
       "104757           Underprivileged      HighlyEducated   \n",
       "26112            Underprivileged    FormallyEducated   \n",
       "57086            Underprivileged    FormallyEducated   \n",
       "9809                  Privileged      HighlyEducated   \n",
       "116188                Privileged    FormallyEducated   \n",
       "77005               MiddleIncome    FormallyEducated   \n",
       "22049            Underprivileged  InformallyEducated   \n",
       "\n",
       "        early_life_opportunities  mean_rating_known_titles  \n",
       "6964             PrivilegedStart                       9.4  \n",
       "14466            PrivilegedStart                       9.3  \n",
       "93001            PrivilegedStart                       9.3  \n",
       "104757           PrivilegedStart                       9.3  \n",
       "26112                   Ordinary                       9.3  \n",
       "57086            PrivilegedStart                       9.3  \n",
       "9809             PrivilegedStart                       9.2  \n",
       "116188           PrivilegedStart                       9.2  \n",
       "77005            PrivilegedStart                       9.2  \n",
       "22049            PrivilegedStart                       9.2  \n",
       "\n",
       "[10 rows x 41 columns]"
      ]
     },
     "execution_count": 35,
     "metadata": {},
     "output_type": "execute_result"
    }
   ],
   "source": [
    "character_metadata.sort_values(by='mean_rating_known_titles', ascending=False).head(10)"
   ]
  },
  {
   "cell_type": "code",
   "execution_count": 57,
   "metadata": {},
   "outputs": [
    {
     "data": {
      "text/plain": [
       "Index(['ActorName', 'WikipediaMovieID', 'CharacterName', 'ActorDOB',\n",
       "       'ActorGender', 'ActorHeight', 'ActorEthnicity', 'Arched_Eyebrows',\n",
       "       'Attractive', 'Bags_Under_Eyes', 'Bald', 'Bangs', 'Big_Lips',\n",
       "       'Big_Nose', 'Black_Hair', 'Blond_Hair', 'Brown_Hair', 'Bushy_Eyebrows',\n",
       "       'Chubby', 'Double_Chin', 'Goatee', 'Gray_Hair', 'High_Cheekbones',\n",
       "       'Male', 'Mustache', 'Narrow_Eyes', 'No_Beard', 'Oval_Face', 'Pale_Skin',\n",
       "       'Pointy_Nose', 'Receding_Hairline', 'Rosy_Cheeks', 'Sideburns',\n",
       "       'Straight_Hair', 'Wavy_Hair', 'primaryProfession', 'knownForTitles',\n",
       "       'socioeconomic_background', 'education_level',\n",
       "       'early_life_opportunities', 'mean_rating_known_titles'],\n",
       "      dtype='object')"
      ]
     },
     "execution_count": 57,
     "metadata": {},
     "output_type": "execute_result"
    }
   ],
   "source": [
    "character_metadata.columns"
   ]
  },
  {
   "cell_type": "code",
   "execution_count": 59,
   "metadata": {},
   "outputs": [],
   "source": [
    "phys_reg1 = character_metadata[['ActorGender', 'ActorHeight', 'ActorEthnicity', 'Arched_Eyebrows',\n",
    "       'Attractive', 'Bags_Under_Eyes', 'Bald', 'Bangs', 'Big_Lips',\n",
    "       'Big_Nose', 'Black_Hair', 'Blond_Hair', 'Brown_Hair', 'Bushy_Eyebrows',\n",
    "       'Chubby', 'Double_Chin', 'Goatee', 'Gray_Hair', 'High_Cheekbones',\n",
    "       'Male', 'Mustache', 'Narrow_Eyes', 'No_Beard', 'Oval_Face', 'Pale_Skin',\n",
    "       'Pointy_Nose', 'Receding_Hairline', 'Rosy_Cheeks', 'Sideburns',\n",
    "       'Straight_Hair', 'Wavy_Hair', 'primaryProfession',\n",
    "       'socioeconomic_background', 'education_level',\n",
    "       'early_life_opportunities', 'mean_rating_known_titles']]"
   ]
  },
  {
   "cell_type": "code",
   "execution_count": 63,
   "metadata": {},
   "outputs": [],
   "source": [
    "import statsmodels.formula.api as smf\n",
    "formula = (\n",
    "    'mean_rating_known_titles ~ ActorHeight + '\n",
    "    'C(ActorGender) + C(Arched_Eyebrows) + C(Attractive) + '\n",
    "    'C(Bags_Under_Eyes) + C(Bald) + C(Bangs) + C(Big_Lips) + C(Big_Nose) + '\n",
    "    'C(Black_Hair) + C(Blond_Hair) + C(Brown_Hair) + C(Bushy_Eyebrows) + '\n",
    "    'C(Chubby) + C(Double_Chin) + C(Goatee) + C(Gray_Hair) + C(High_Cheekbones) + '\n",
    "    'C(Male) + C(Mustache) + C(Narrow_Eyes) + C(No_Beard) + C(Oval_Face) + '\n",
    "    'C(Pale_Skin) + C(Pointy_Nose) + C(Receding_Hairline) + C(Rosy_Cheeks) + '\n",
    "    'C(Sideburns) + C(Straight_Hair) + C(Wavy_Hair) + C(primaryProfession) + '\n",
    "    'C(socioeconomic_background) + C(education_level) + C(early_life_opportunities) + '\n",
    "    'C(Male) * C(Mustache)'\n",
    ")\n",
    "\n",
    "# Fit the model\n",
    "mod = smf.ols(formula=formula, data=phys_reg1)            "
   ]
  },
  {
   "cell_type": "code",
   "execution_count": 64,
   "metadata": {},
   "outputs": [],
   "source": [
    "np.random.seed(2)\n",
    "res = mod.fit()"
   ]
  },
  {
   "cell_type": "code",
   "execution_count": 65,
   "metadata": {},
   "outputs": [
    {
     "name": "stdout",
     "output_type": "stream",
     "text": [
      "                               OLS Regression Results                               \n",
      "====================================================================================\n",
      "Dep. Variable:     mean_rating_known_titles   R-squared:                       0.057\n",
      "Model:                                  OLS   Adj. R-squared:                  0.044\n",
      "Method:                       Least Squares   F-statistic:                     4.405\n",
      "Date:                    jeu., 12 déc. 2024   Prob (F-statistic):           4.07e-17\n",
      "Time:                              15:57:16   Log-Likelihood:                -3402.6\n",
      "No. Observations:                      2750   AIC:                             6881.\n",
      "Df Residuals:                          2712   BIC:                             7106.\n",
      "Df Model:                                37                                         \n",
      "Covariance Type:                  nonrobust                                         \n",
      "==================================================================================================================\n",
      "                                                     coef    std err          t      P>|t|      [0.025      0.975]\n",
      "------------------------------------------------------------------------------------------------------------------\n",
      "Intercept                                          6.9551      0.379     18.329      0.000       6.211       7.699\n",
      "C(ActorGender)[T.M]                               -0.1071      0.197     -0.543      0.587      -0.494       0.279\n",
      "C(Arched_Eyebrows)[T.1.0]                         -0.0500      0.045     -1.102      0.271      -0.139       0.039\n",
      "C(Attractive)[T.1.0]                              -0.1446      0.039     -3.686      0.000      -0.222      -0.068\n",
      "C(Bags_Under_Eyes)[T.1.0]                          0.1007      0.044      2.270      0.023       0.014       0.188\n",
      "C(Bald)[T.1.0]                                    -0.1195      0.094     -1.274      0.203      -0.303       0.064\n",
      "C(Bangs)[T.1.0]                                   -0.0235      0.047     -0.501      0.617      -0.116       0.069\n",
      "C(Big_Lips)[T.1.0]                                -0.1737      0.045     -3.869      0.000      -0.262      -0.086\n",
      "C(Big_Nose)[T.1.0]                                -0.0318      0.045     -0.705      0.481      -0.120       0.057\n",
      "C(Black_Hair)[T.1.0]                              -0.0181      0.045     -0.400      0.690      -0.107       0.071\n",
      "C(Blond_Hair)[T.1.0]                              -0.0881      0.053     -1.676      0.094      -0.191       0.015\n",
      "C(Brown_Hair)[T.1.0]                              -0.0200      0.045     -0.445      0.657      -0.108       0.068\n",
      "C(Bushy_Eyebrows)[T.1.0]                           0.0229      0.051      0.449      0.654      -0.077       0.123\n",
      "C(Chubby)[T.1.0]                                  -0.0981      0.078     -1.261      0.207      -0.251       0.054\n",
      "C(Double_Chin)[T.1.0]                              0.1939      0.079      2.460      0.014       0.039       0.348\n",
      "C(Goatee)[T.1.0]                                   0.0926      0.079      1.170      0.242      -0.063       0.248\n",
      "C(Gray_Hair)[T.1.0]                                0.1680      0.068      2.472      0.013       0.035       0.301\n",
      "C(High_Cheekbones)[T.1.0]                          0.0072      0.036      0.198      0.843      -0.064       0.078\n",
      "C(Male)[T.1.0]                                     0.2319      0.197      1.177      0.239      -0.155       0.618\n",
      "C(Mustache)[T.1.0]                                -0.0504      0.045     -1.128      0.260      -0.138       0.037\n",
      "C(Narrow_Eyes)[T.1.0]                             -0.0632      0.054     -1.163      0.245      -0.170       0.043\n",
      "C(No_Beard)[T.1.0]                                 0.0430      0.060      0.715      0.475      -0.075       0.161\n",
      "C(Oval_Face)[T.1.0]                               -0.0386      0.037     -1.040      0.298      -0.111       0.034\n",
      "C(Pale_Skin)[T.1.0]                                0.1425      0.084      1.702      0.089      -0.022       0.307\n",
      "C(Pointy_Nose)[T.1.0]                             -0.0222      0.037     -0.591      0.554      -0.096       0.051\n",
      "C(Receding_Hairline)[T.1.0]                        0.0349      0.060      0.582      0.561      -0.083       0.152\n",
      "C(Rosy_Cheeks)[T.1.0]                             -0.0345      0.069     -0.503      0.615      -0.169       0.100\n",
      "C(Sideburns)[T.1.0]                                0.1116      0.078      1.430      0.153      -0.041       0.265\n",
      "C(Straight_Hair)[T.1.0]                           -0.0296      0.045     -0.659      0.510      -0.118       0.058\n",
      "C(Wavy_Hair)[T.1.0]                                0.0253      0.039      0.641      0.521      -0.052       0.103\n",
      "C(primaryProfession)[T.otherOcc]                  -0.0274      0.036     -0.771      0.441      -0.097       0.042\n",
      "C(socioeconomic_background)[T.Privileged]          0.1025      0.044      2.347      0.019       0.017       0.188\n",
      "C(socioeconomic_background)[T.Underprivileged]     0.0944      0.050      1.890      0.059      -0.004       0.192\n",
      "C(education_level)[T.HighlyEducated]               0.0173      0.037      0.463      0.644      -0.056       0.091\n",
      "C(education_level)[T.InformallyEducated]           0.0483      0.048      1.003      0.316      -0.046       0.143\n",
      "C(early_life_opportunities)[T.Ordinary]           -0.0233      0.105     -0.222      0.825      -0.229       0.183\n",
      "C(early_life_opportunities)[T.PrivilegedStart]    -0.0870      0.099     -0.881      0.378      -0.281       0.107\n",
      "C(Male)[T.1.0]:C(Mustache)[T.1.0]                 -0.0504      0.045     -1.128      0.260      -0.138       0.037\n",
      "ActorHeight                                       -0.2553      0.212     -1.202      0.230      -0.672       0.161\n",
      "==============================================================================\n",
      "Omnibus:                      387.986   Durbin-Watson:                   1.970\n",
      "Prob(Omnibus):                  0.000   Jarque-Bera (JB):              873.082\n",
      "Skew:                          -0.822   Prob(JB):                    2.59e-190\n",
      "Kurtosis:                       5.217   Cond. No.                     1.08e+16\n",
      "==============================================================================\n",
      "\n",
      "Notes:\n",
      "[1] Standard Errors assume that the covariance matrix of the errors is correctly specified.\n",
      "[2] The smallest eigenvalue is 1.83e-28. This might indicate that there are\n",
      "strong multicollinearity problems or that the design matrix is singular.\n"
     ]
    }
   ],
   "source": [
    "print(res.summary())"
   ]
  },
  {
   "cell_type": "markdown",
   "metadata": {},
   "source": [
    "under 5% :\n",
    "\n",
    "Attractive (-0.14), bag undereyes (+0,1), biglips(-0.17), doublechin(+0.19), grayhair(+0.16), privileged (+0.1)"
   ]
  },
  {
   "cell_type": "code",
   "execution_count": 77,
   "metadata": {},
   "outputs": [],
   "source": [
    "phys_reg2 = phys_reg1"
   ]
  },
  {
   "cell_type": "code",
   "execution_count": 78,
   "metadata": {},
   "outputs": [],
   "source": [
    "phys_reg2 = phys_reg2.dropna(subset=['Arched_Eyebrows',\n",
    "       'Attractive', 'Bags_Under_Eyes', 'Bald', 'Bangs', 'Big_Lips',\n",
    "       'Big_Nose', 'Black_Hair', 'Blond_Hair', 'Brown_Hair', 'Bushy_Eyebrows',\n",
    "       'Chubby', 'Double_Chin', 'Goatee', 'Gray_Hair', 'High_Cheekbones',\n",
    "       'Male', 'Mustache', 'Narrow_Eyes', 'No_Beard', 'Oval_Face', 'Pale_Skin',\n",
    "       'Pointy_Nose', 'Receding_Hairline', 'Rosy_Cheeks', 'Sideburns',\n",
    "       'Straight_Hair', 'Wavy_Hair'], how='all')"
   ]
  },
  {
   "cell_type": "code",
   "execution_count": 79,
   "metadata": {},
   "outputs": [
    {
     "data": {
      "text/plain": [
       "Index(['ActorGender', 'ActorHeight', 'ActorEthnicity', 'Arched_Eyebrows',\n",
       "       'Attractive', 'Bags_Under_Eyes', 'Bald', 'Bangs', 'Big_Lips',\n",
       "       'Big_Nose', 'Black_Hair', 'Blond_Hair', 'Brown_Hair', 'Bushy_Eyebrows',\n",
       "       'Chubby', 'Double_Chin', 'Goatee', 'Gray_Hair', 'High_Cheekbones',\n",
       "       'Male', 'Mustache', 'Narrow_Eyes', 'No_Beard', 'Oval_Face', 'Pale_Skin',\n",
       "       'Pointy_Nose', 'Receding_Hairline', 'Rosy_Cheeks', 'Sideburns',\n",
       "       'Straight_Hair', 'Wavy_Hair', 'primaryProfession',\n",
       "       'socioeconomic_background', 'education_level',\n",
       "       'early_life_opportunities', 'mean_rating_known_titles'],\n",
       "      dtype='object')"
      ]
     },
     "execution_count": 79,
     "metadata": {},
     "output_type": "execute_result"
    }
   ],
   "source": [
    "phys_reg2.columns"
   ]
  },
  {
   "cell_type": "code",
   "execution_count": 81,
   "metadata": {},
   "outputs": [],
   "source": [
    "import statsmodels.formula.api as smf\n",
    "formula2 = (\n",
    "    'mean_rating_known_titles ~ ActorHeight + '\n",
    "    'C(ActorGender) + C(Arched_Eyebrows) + C(Attractive) + '\n",
    "    'C(Bags_Under_Eyes) + C(Bald) + C(Bangs) + C(Big_Lips) + C(Big_Nose) + '\n",
    "    'C(Black_Hair) + C(Blond_Hair) + C(Brown_Hair) + C(Bushy_Eyebrows) + '\n",
    "    'C(Chubby) + C(Double_Chin) + C(Goatee) + C(Gray_Hair) + C(High_Cheekbones) + '\n",
    "    'C(Male) + C(Mustache) + C(Narrow_Eyes) + C(No_Beard) + C(Oval_Face) + '\n",
    "    'C(Pale_Skin) + C(Pointy_Nose) + C(Receding_Hairline) + C(Rosy_Cheeks) + '\n",
    "    'C(Sideburns) + C(Straight_Hair) + C(Wavy_Hair) + C(primaryProfession) + '\n",
    "    'C(socioeconomic_background) + C(education_level) + C(early_life_opportunities) + '\n",
    "    'C(Male) * C(Mustache)'\n",
    ")\n",
    "\n",
    "# Fit the model\n",
    "mod2 = smf.ols(formula=formula2, data=phys_reg2)            "
   ]
  },
  {
   "cell_type": "code",
   "execution_count": 82,
   "metadata": {},
   "outputs": [],
   "source": [
    "np.random.seed(2)\n",
    "res2 = mod2.fit()"
   ]
  },
  {
   "cell_type": "code",
   "execution_count": 83,
   "metadata": {},
   "outputs": [
    {
     "name": "stdout",
     "output_type": "stream",
     "text": [
      "                               OLS Regression Results                               \n",
      "====================================================================================\n",
      "Dep. Variable:     mean_rating_known_titles   R-squared:                       0.057\n",
      "Model:                                  OLS   Adj. R-squared:                  0.044\n",
      "Method:                       Least Squares   F-statistic:                     4.405\n",
      "Date:                    jeu., 12 déc. 2024   Prob (F-statistic):           4.07e-17\n",
      "Time:                              16:18:55   Log-Likelihood:                -3402.6\n",
      "No. Observations:                      2750   AIC:                             6881.\n",
      "Df Residuals:                          2712   BIC:                             7106.\n",
      "Df Model:                                37                                         \n",
      "Covariance Type:                  nonrobust                                         \n",
      "==================================================================================================================\n",
      "                                                     coef    std err          t      P>|t|      [0.025      0.975]\n",
      "------------------------------------------------------------------------------------------------------------------\n",
      "Intercept                                          6.9551      0.379     18.329      0.000       6.211       7.699\n",
      "C(ActorGender)[T.M]                               -0.1071      0.197     -0.543      0.587      -0.494       0.279\n",
      "C(Arched_Eyebrows)[T.1.0]                         -0.0500      0.045     -1.102      0.271      -0.139       0.039\n",
      "C(Attractive)[T.1.0]                              -0.1446      0.039     -3.686      0.000      -0.222      -0.068\n",
      "C(Bags_Under_Eyes)[T.1.0]                          0.1007      0.044      2.270      0.023       0.014       0.188\n",
      "C(Bald)[T.1.0]                                    -0.1195      0.094     -1.274      0.203      -0.303       0.064\n",
      "C(Bangs)[T.1.0]                                   -0.0235      0.047     -0.501      0.617      -0.116       0.069\n",
      "C(Big_Lips)[T.1.0]                                -0.1737      0.045     -3.869      0.000      -0.262      -0.086\n",
      "C(Big_Nose)[T.1.0]                                -0.0318      0.045     -0.705      0.481      -0.120       0.057\n",
      "C(Black_Hair)[T.1.0]                              -0.0181      0.045     -0.400      0.690      -0.107       0.071\n",
      "C(Blond_Hair)[T.1.0]                              -0.0881      0.053     -1.676      0.094      -0.191       0.015\n",
      "C(Brown_Hair)[T.1.0]                              -0.0200      0.045     -0.445      0.657      -0.108       0.068\n",
      "C(Bushy_Eyebrows)[T.1.0]                           0.0229      0.051      0.449      0.654      -0.077       0.123\n",
      "C(Chubby)[T.1.0]                                  -0.0981      0.078     -1.261      0.207      -0.251       0.054\n",
      "C(Double_Chin)[T.1.0]                              0.1939      0.079      2.460      0.014       0.039       0.348\n",
      "C(Goatee)[T.1.0]                                   0.0926      0.079      1.170      0.242      -0.063       0.248\n",
      "C(Gray_Hair)[T.1.0]                                0.1680      0.068      2.472      0.013       0.035       0.301\n",
      "C(High_Cheekbones)[T.1.0]                          0.0072      0.036      0.198      0.843      -0.064       0.078\n",
      "C(Male)[T.1.0]                                     0.2319      0.197      1.177      0.239      -0.155       0.618\n",
      "C(Mustache)[T.1.0]                                -0.0504      0.045     -1.128      0.260      -0.138       0.037\n",
      "C(Narrow_Eyes)[T.1.0]                             -0.0632      0.054     -1.163      0.245      -0.170       0.043\n",
      "C(No_Beard)[T.1.0]                                 0.0430      0.060      0.715      0.475      -0.075       0.161\n",
      "C(Oval_Face)[T.1.0]                               -0.0386      0.037     -1.040      0.298      -0.111       0.034\n",
      "C(Pale_Skin)[T.1.0]                                0.1425      0.084      1.702      0.089      -0.022       0.307\n",
      "C(Pointy_Nose)[T.1.0]                             -0.0222      0.037     -0.591      0.554      -0.096       0.051\n",
      "C(Receding_Hairline)[T.1.0]                        0.0349      0.060      0.582      0.561      -0.083       0.152\n",
      "C(Rosy_Cheeks)[T.1.0]                             -0.0345      0.069     -0.503      0.615      -0.169       0.100\n",
      "C(Sideburns)[T.1.0]                                0.1116      0.078      1.430      0.153      -0.041       0.265\n",
      "C(Straight_Hair)[T.1.0]                           -0.0296      0.045     -0.659      0.510      -0.118       0.058\n",
      "C(Wavy_Hair)[T.1.0]                                0.0253      0.039      0.641      0.521      -0.052       0.103\n",
      "C(primaryProfession)[T.otherOcc]                  -0.0274      0.036     -0.771      0.441      -0.097       0.042\n",
      "C(socioeconomic_background)[T.Privileged]          0.1025      0.044      2.347      0.019       0.017       0.188\n",
      "C(socioeconomic_background)[T.Underprivileged]     0.0944      0.050      1.890      0.059      -0.004       0.192\n",
      "C(education_level)[T.HighlyEducated]               0.0173      0.037      0.463      0.644      -0.056       0.091\n",
      "C(education_level)[T.InformallyEducated]           0.0483      0.048      1.003      0.316      -0.046       0.143\n",
      "C(early_life_opportunities)[T.Ordinary]           -0.0233      0.105     -0.222      0.825      -0.229       0.183\n",
      "C(early_life_opportunities)[T.PrivilegedStart]    -0.0870      0.099     -0.881      0.378      -0.281       0.107\n",
      "C(Male)[T.1.0]:C(Mustache)[T.1.0]                 -0.0504      0.045     -1.128      0.260      -0.138       0.037\n",
      "ActorHeight                                       -0.2553      0.212     -1.202      0.230      -0.672       0.161\n",
      "==============================================================================\n",
      "Omnibus:                      387.986   Durbin-Watson:                   1.970\n",
      "Prob(Omnibus):                  0.000   Jarque-Bera (JB):              873.082\n",
      "Skew:                          -0.822   Prob(JB):                    2.59e-190\n",
      "Kurtosis:                       5.217   Cond. No.                     1.08e+16\n",
      "==============================================================================\n",
      "\n",
      "Notes:\n",
      "[1] Standard Errors assume that the covariance matrix of the errors is correctly specified.\n",
      "[2] The smallest eigenvalue is 1.83e-28. This might indicate that there are\n",
      "strong multicollinearity problems or that the design matrix is singular.\n"
     ]
    }
   ],
   "source": [
    "print(res2.summary())"
   ]
  }
 ],
 "metadata": {
  "kernelspec": {
   "display_name": "ada",
   "language": "python",
   "name": "python3"
  },
  "language_info": {
   "codemirror_mode": {
    "name": "ipython",
    "version": 3
   },
   "file_extension": ".py",
   "mimetype": "text/x-python",
   "name": "python",
   "nbconvert_exporter": "python",
   "pygments_lexer": "ipython3",
   "version": "3.11.9"
  }
 },
 "nbformat": 4,
 "nbformat_minor": 2
}
