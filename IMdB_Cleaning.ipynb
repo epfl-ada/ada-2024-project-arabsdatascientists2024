{
 "cells": [
  {
   "cell_type": "code",
   "execution_count": 1,
   "metadata": {},
   "outputs": [],
   "source": [
    "import pandas as pd \n",
    "import numpy as np \n",
    "import matplotlib.pyplot as plt\n",
    "import seaborn as sns"
   ]
  },
  {
   "cell_type": "markdown",
   "metadata": {},
   "source": [
    "Our Functions"
   ]
  },
  {
   "cell_type": "code",
   "execution_count": 2,
   "metadata": {},
   "outputs": [],
   "source": [
    "def plotNanPercentage(df, title, nan_value='\\\\N'):\n",
    "    nan_percentages = (df == nan_value).mean() * 100\n",
    "    plt.figure(figsize=(8, 4))\n",
    "    nan_percentages.plot(kind='bar', color='skyblue')\n",
    "    plt.title(f\"Percentage of '{nan_value}' values for {title} dataset\")\n",
    "    plt.ylabel(f\"Percentage of '{nan_value}' values\")\n",
    "    plt.xlabel(\"Columns\")\n",
    "    plt.xticks(rotation=45, ha='right')\n",
    "    plt.tight_layout()\n",
    "    plt.show()"
   ]
  },
  {
   "cell_type": "markdown",
   "metadata": {},
   "source": [
    "Dataset analysis"
   ]
  },
  {
   "cell_type": "code",
   "execution_count": 3,
   "metadata": {},
   "outputs": [
    {
     "name": "stderr",
     "output_type": "stream",
     "text": [
      "C:\\Users\\Bosstala\\AppData\\Local\\Temp\\ipykernel_23836\\3990124075.py:3: DtypeWarning: Columns (4) have mixed types. Specify dtype option on import or set low_memory=False.\n",
      "  title_basics = pd.read_csv('./data/IMdB/title.basics.tsv', sep='\\t')\n"
     ]
    }
   ],
   "source": [
    "names = pd.read_csv('./data/IMdB/name.basics.tsv', sep='\\t')\n",
    "title_akas = pd.read_csv('./data/IMdB/title.akas.tsv', sep='\\t')\n",
    "title_basics = pd.read_csv('./data/IMdB/title.basics.tsv', sep='\\t')\n",
    "title_principals = pd.read_csv('./data/IMdB/title.principals.tsv', sep='\\t')\n",
    "title_ratings = pd.read_csv('./data/IMdB/title.ratings.tsv', sep='\\t')"
   ]
  },
  {
   "cell_type": "code",
   "execution_count": null,
   "metadata": {},
   "outputs": [],
   "source": [
    "plotNanPercentage(names,\"Names\")\n",
    "plotNanPercentage(title_akas,\"Akas\")\n",
    "plotNanPercentage(title_basics,\"Basics\")\n",
    "plotNanPercentage(title_principals,\"Principals\")\n",
    "plotNanPercentage(title_ratings,'Ratings')"
   ]
  }
 ],
 "metadata": {
  "kernelspec": {
   "display_name": "ada",
   "language": "python",
   "name": "python3"
  },
  "language_info": {
   "codemirror_mode": {
    "name": "ipython",
    "version": 3
   },
   "file_extension": ".py",
   "mimetype": "text/x-python",
   "name": "python",
   "nbconvert_exporter": "python",
   "pygments_lexer": "ipython3",
   "version": "3.11.10"
  }
 },
 "nbformat": 4,
 "nbformat_minor": 2
}
